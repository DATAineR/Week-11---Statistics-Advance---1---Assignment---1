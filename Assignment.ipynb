{
 "cells": [
  {
   "cell_type": "markdown",
   "id": "a4e6fd3a-a26e-48f3-95ad-7d60f1ec141e",
   "metadata": {},
   "source": [
    "Q1. What is the Probability density function?\n"
   ]
  },
  {
   "cell_type": "markdown",
   "id": "3d477981-af90-488e-af86-5b88d355c3f8",
   "metadata": {},
   "source": [
    "Probability density function is a function that provides the likelihood that the value of a random variable will fall between a certain range of values. We use the probability density function in the case of continuous random variables. For discrete random variables, we use the probability mass function which is analogous to the probability density function.\n",
    "\n",
    "The PDF of a continuous random variable is defined as the derivative of its cumulative distribution function (CDF). The CDF gives the probability that a random variable takes on a value less than or equal to a given value.\n",
    "\n",
    "The PDF is used to calculate the probability that a random variable falls within a certain range of values, by integrating the PDF over that range. The area under the PDF curve represents the total probability of all possible values of the random variable.\n",
    "\n",
    "In summary, the PDF provides a way to quantify the probability distribution of a continuous random variable, making it a useful tool in many fields including statistics, physics, and engineering."
   ]
  },
  {
   "cell_type": "markdown",
   "id": "292243c2-d417-4b0b-8ecb-7fb1c098fb12",
   "metadata": {},
   "source": [
    "![PDF](https://images.deepai.org/glossary-terms/51a7646ef6334199983a16c67f57babf/PDF.png)"
   ]
  },
  {
   "cell_type": "markdown",
   "id": "486b3159-ab3c-4ae8-9b43-184e92856eff",
   "metadata": {},
   "source": [
    "Q2. What are the types of Probability distribution?\n"
   ]
  },
  {
   "cell_type": "markdown",
   "id": "ee6f28b4-b0d9-4f11-b872-f9e9420f19b9",
   "metadata": {},
   "source": [
    " There are many types of probability distributions, but some of the most common ones are:\n",
    "\n",
    "1. Normal distribution: Also known as the Gaussian distribution, it is one of the most important distributions in statistics. It is often used to model natural phenomena such as the heights and weights of a population, and it is characterized by a bell-shaped curve."
   ]
  },
  {
   "cell_type": "markdown",
   "id": "d1ea6da8-925e-411f-8506-3d6e25f5845e",
   "metadata": {},
   "source": [
    "![Normal Distribution](https://www.isixsigma.com/wp-content/uploads/2018/11/Screen-Shot-2022-06-13-at-10.20.58-AM.png)"
   ]
  },
  {
   "cell_type": "markdown",
   "id": "82ede8d2-5c9e-4b5a-8083-19cfd78028ba",
   "metadata": {},
   "source": [
    "2. Binomial distribution: This distribution describes the number of successes in a fixed number of independent trials, where each trial has the same probability of success. It is often used in experiments where there are only two possible outcomes, such as coin flips or medical treatments."
   ]
  },
  {
   "cell_type": "markdown",
   "id": "1e102ac3-4285-401e-a8c1-9527e27d22b6",
   "metadata": {},
   "source": [
    "![Binomial Distribution](https://statisticsbyjim.com/wp-content/uploads/2022/02/binomial_distribution_plot.png)"
   ]
  },
  {
   "cell_type": "markdown",
   "id": "a5db20cd-e819-473b-b6cb-ac5259ab26b9",
   "metadata": {},
   "source": [
    "3. Poisson distribution: This distribution describes the number of occurrences of a rare event within a fixed time or space. It is often used in modeling the number of customers arriving at a store or the number of defects in a manufacturing process."
   ]
  },
  {
   "cell_type": "markdown",
   "id": "2b2a90a9-e7ad-4b5a-961d-ffeca796dc07",
   "metadata": {},
   "source": [
    "![Poission Distribution](https://ars.els-cdn.com/content/image/3-s2.0-B9780128013632000097-f09-03-9780128013632.jpg)"
   ]
  },
  {
   "cell_type": "markdown",
   "id": "9237e77c-cc13-4b07-ba08-028902ddd57d",
   "metadata": {},
   "source": [
    "4. Exponential distribution: This distribution describes the time between two successive events in a Poisson process. It is often used in modeling the lifetimes of electronic components or the time between customer arrivals at a store."
   ]
  },
  {
   "cell_type": "markdown",
   "id": "ab08d766-5ee7-4a55-8259-3ec7a9d49be6",
   "metadata": {},
   "source": [
    "![Exponential Distribution](https://upload.wikimedia.org/wikipedia/commons/8/86/WrappedExponentialPDF.png)"
   ]
  },
  {
   "cell_type": "markdown",
   "id": "90a59869-859a-44a8-9f7b-db44178537c1",
   "metadata": {},
   "source": [
    "5. Uniform distribution: This distribution describes a random variable that is equally likely to take on any value within a certain range. It is often used in simulation models or in random number generation."
   ]
  },
  {
   "cell_type": "markdown",
   "id": "30fb388a-5de3-46a5-94c9-882797f4869d",
   "metadata": {},
   "source": [
    "![Uniform Distribution](https://analystprep.com/cfa-level-1-exam/wp-content/uploads/2021/09/cfa-level-1-continuous-uniform-random-variable-1.jpg)"
   ]
  },
  {
   "cell_type": "markdown",
   "id": "6234e792-01ce-4532-9856-2086ef277dbc",
   "metadata": {},
   "source": [
    "Q3. Write a Python function to calculate the probability density function of a normal distribution with \n",
    "given mean and standard deviation at a given point."
   ]
  },
  {
   "cell_type": "markdown",
   "id": "0779a85e-0649-4d0b-98b9-61bf0fc5485d",
   "metadata": {},
   "source": [
    " Equation for PDF of Normal distribution is as below:\n",
    "$$ f(x) = \\frac{1}{\\sigma\\sqrt{2\\pi}} e^{-\\frac{(x-\\mu)^2}{2\\sigma^2}} $$"
   ]
  },
  {
   "cell_type": "code",
   "execution_count": 1,
   "id": "ffc1aa31-9b2b-4e0a-8ca8-2602b7aebdf6",
   "metadata": {},
   "outputs": [],
   "source": [
    "import math\n",
    "\n",
    "def normal_pdf(x, mean, std_dev):\n",
    "    \"\"\"\n",
    "    Calculates the probability density function (PDF) of a normal distribution\n",
    "    with a given mean and standard deviation at a given point x.\n",
    "    \"\"\"\n",
    "    variance = std_dev ** 2\n",
    "    exponent = -((x - mean) ** 2) / (2 * variance)\n",
    "    coefficient = 1 / math.sqrt(2 * math.pi * variance)\n",
    "    pdf = coefficient * math.exp(exponent)\n",
    "    return pdf"
   ]
  },
  {
   "cell_type": "markdown",
   "id": "8d9bcb76-e768-4962-a871-2726ccaa6616",
   "metadata": {},
   "source": [
    " Example calculating pdf for Normal Distribution at x=3 with mean=2 and std_dev=1.5"
   ]
  },
  {
   "cell_type": "code",
   "execution_count": 2,
   "id": "1360bc24-4d9b-42f2-a878-cb2a7700a99f",
   "metadata": {},
   "outputs": [
    {
     "data": {
      "text/plain": [
       "0.2129653370149015"
      ]
     },
     "execution_count": 2,
     "metadata": {},
     "output_type": "execute_result"
    }
   ],
   "source": [
    "normal_pdf(x=3,mean=2,std_dev=1.5)"
   ]
  },
  {
   "cell_type": "markdown",
   "id": "36b2fbf3-809f-4def-bda2-bec4d987ea3b",
   "metadata": {},
   "source": [
    "Q4. What are the properties of Binomial distribution? Give two examples of events where binomial \n",
    "distribution can be applied."
   ]
  },
  {
   "cell_type": "markdown",
   "id": "f60fc8b2-13d3-4dee-b4b1-f8a0ba550c27",
   "metadata": {},
   "source": [
    " The Binomial distribution is a discrete probability distribution that describes the number of successes in a fixed number of independent trials, where each trial has the same probability of success. The key properties of the Binomial distribution are:\n",
    "\n",
    "1. The number of trials n is fixed and known in advance.\n",
    "\n",
    "2. Each trial is independent of the others.\n",
    "\n",
    "3. There are only two possible outcomes for each trial: success or failure.\n",
    "\n",
    "4. The probability of success p is the same for each trial."
   ]
  },
  {
   "cell_type": "markdown",
   "id": "e4234834-2b79-4c04-980e-3d45b6999c81",
   "metadata": {},
   "source": [
    " Some examples of events where the Binomial distribution can be applied are:\n",
    "\n",
    "1. Flipping a coin multiple times and counting the number of times it lands on heads. Here, each coin flip is an independent trial, and there are only two possible outcomes (heads or tails) with a fixed probability of success (0.5 assuming a fair coin).\n",
    "\n",
    "2. Testing a new drug to see how many patients respond positively. Here, each patient is an independent trial, and there are only two possible outcomes (response or no response) with a fixed probability of success (based on the effectiveness of the drug)."
   ]
  },
  {
   "cell_type": "markdown",
   "id": "cb53957b-b309-4e18-84e8-bb97bf09967b",
   "metadata": {},
   "source": [
    " In general, the Binomial distribution is useful in any situation where we want to model the number of successes in a fixed number of independent trials, where each trial has the same probability of success."
   ]
  },
  {
   "cell_type": "markdown",
   "id": "08c767db-6f40-420b-8746-ba07260fe616",
   "metadata": {},
   "source": [
    "Q5. Generate a random sample of size 1000 from a binomial distribution with probability of success 0.4 \n",
    "and plot a histogram of the results using matplotlib."
   ]
  },
  {
   "cell_type": "markdown",
   "id": "6799af76-d227-4133-b428-7e05e1eda417",
   "metadata": {},
   "source": [
    " Probability Mass Function for Bionomial Distribution is given by below formula\n",
    "\n",
    "$$ P(X=k) = \\binom{n}{k} p^k (1-p)^{n-k} $$"
   ]
  },
  {
   "cell_type": "code",
   "execution_count": 3,
   "id": "a16d194b-fdc8-4a51-949f-acf71bd3a166",
   "metadata": {},
   "outputs": [
    {
     "data": {
      "image/png": "[encoded data removed]",
      "text/plain": [
       "<Figure size 640x480 with 1 Axes>"
      ]
     },
     "metadata": {},
     "output_type": "display_data"
    }
   ],
   "source": [
    "import numpy as np\n",
    "import matplotlib.pyplot as plt\n",
    "\n",
    "# Generate a random sample of size 1000 from a Binomial distribution\n",
    "n = 1000  # Sample size\n",
    "p = 0.4  # Probability of success\n",
    "sample = np.random.binomial(n, p, size=1000)\n",
    "\n",
    "# Plot a histogram of the results using Fredman diaconis rule i.e. bins='fd'\n",
    "plt.hist(sample,bins='fd',density=True, edgecolor='black')\n",
    "plt.xlabel('Number of Successes')\n",
    "plt.ylabel('Probability')\n",
    "plt.title('Binomial Distribution (n=1000, p=0.4)')\n",
    "plt.show()"
   ]
  },
  {
   "cell_type": "markdown",
   "id": "f17e9970-ad93-44a6-80e5-69f3efcc6fc9",
   "metadata": {},
   "source": [
    "Q6. Write a Python function to calculate the cumulative distribution function of a Poisson distribution \n",
    "with given mean at a given point."
   ]
  },
  {
   "cell_type": "markdown",
   "id": "ecb21d48-d393-4e30-9969-184468a08a91",
   "metadata": {},
   "source": [
    "The cumulative distribution function (CDF) of a Poisson distribution with mean λ at a given point x is given by the formula:\n",
    "\n",
    "$$F(x; \\lambda) = \\sum_{k=0}^{\\lfloor x \\rfloor} e^{-\\lambda} \\frac{\\lambda^k}{k!}$$\n",
    "\n",
    "where $\\lfloor x \\rfloor$ denotes the greatest integer less than or equal to x."
   ]
  },
  {
   "cell_type": "code",
   "execution_count": 4,
   "id": "b3eb1b2d-2195-4205-91ae-b148999582d2",
   "metadata": {},
   "outputs": [],
   "source": [
    "import math\n",
    "\n",
    "def poisson_cdf(mean, point):\n",
    "    \"\"\"\n",
    "    Calculates the cumulative distribution function of a \n",
    "    Poisson distribution with given mean at a given point\n",
    "    \"\"\"\n",
    "    cdf = 0\n",
    "    for k in range(point + 1):\n",
    "        cdf = cdf + math.exp(-mean) * pow(mean, k) / math.factorial(k)\n",
    "    return cdf\n"
   ]
  },
  {
   "cell_type": "markdown",
   "id": "6e1205db-3627-466a-b0af-92b0ff95e53f",
   "metadata": {},
   "source": [
    " Example Calculating CDF of poission Distribution with mean = 4 at x = 2"
   ]
  },
  {
   "cell_type": "code",
   "execution_count": 6,
   "id": "8baeeee6-7ba4-4a7c-b46a-cce5e4d9f216",
   "metadata": {},
   "outputs": [
    {
     "name": "stdout",
     "output_type": "stream",
     "text": [
      "Poison cdf for mean = 4 at x = 2 is 0.2381\n"
     ]
    }
   ],
   "source": [
    "result = poisson_cdf(mean=4,point=2)\n",
    "print(f'Poison cdf for mean = 4 at x = 2 is {round(result,4)}')"
   ]
  },
  {
   "cell_type": "markdown",
   "id": "bbd76766-2dad-4fc9-b840-c815d8f074de",
   "metadata": {},
   "source": [
    "Verifying with scipy.stats"
   ]
  },
  {
   "cell_type": "code",
   "execution_count": 7,
   "id": "4960e994-141b-449c-84c4-70903203cdbe",
   "metadata": {},
   "outputs": [
    {
     "data": {
      "text/plain": [
       "0.23810330555354436"
      ]
     },
     "execution_count": 7,
     "metadata": {},
     "output_type": "execute_result"
    }
   ],
   "source": [
    "from scipy.stats import poisson\n",
    "poisson.cdf(2,mu=4)"
   ]
  },
  {
   "cell_type": "markdown",
   "id": "13dbf416-2b3f-4c6b-831f-71407a57fbf3",
   "metadata": {},
   "source": [
    "Q7. How Binomial distribution different from Poisson distribution?\n"
   ]
  },
  {
   "cell_type": "markdown",
   "id": "5a56b37c-06af-46dc-854a-7982f1985c99",
   "metadata": {},
   "source": [
    " Here are differences in Bionomial and Poisson Distribution:\n",
    "\n",
    "|         | Binomial Distribution                           | Poisson Distribution                          |\n",
    "|---------|------------------------------------------------|----------------------------------------------|\n",
    "| PMF     | $P(X = k) = {n \\choose k} p^k (1 - p)^{n - k}$  | $P(X = k) = \\frac{e^{-\\lambda}\\lambda^k}{k!}$  |\n",
    "| CDF     | $F(x) = P(X \\leq x) = \\sum\\limits_{k=0}^x P(X=k)$ | $F(x) = P(X \\leq x) = \\sum\\limits_{k=0}^x P(X=k)$ |\n",
    "| Parameter | $n$: number of trials, $p$: probability of success | $\\lambda$: average number of rare events in interval |\n",
    "| Assumption | Trials are independent                         | Events occur independently of one another    |\n",
    "| Shape   | Bell-shaped                                      | Skewed to the right                           |\n",
    "| Mean    | $\\mu = np$                                      | $\\mu = \\lambda$                              |\n",
    "| Variance | $\\sigma^2 = np(1-p)$                            | $\\sigma^2 = \\lambda$                         |\n"
   ]
  },
  {
   "cell_type": "markdown",
   "id": "dde5e55f-2ded-4daa-b8ef-b37999d391ff",
   "metadata": {},
   "source": [
    "Q8. Generate a random sample of size 1000 from a Poisson distribution with mean 5 and calculate the \n",
    "sample mean and variance."
   ]
  },
  {
   "cell_type": "code",
   "execution_count": 8,
   "id": "5c6d54db-f2f3-4540-a6f1-07165e552430",
   "metadata": {},
   "outputs": [
    {
     "name": "stdout",
     "output_type": "stream",
     "text": [
      "Poission Sample Mean     : 4.985\n",
      "Poission Sample Variance : 4.9967749999999995\n"
     ]
    }
   ],
   "source": [
    "import numpy as np\n",
    "\n",
    "# Set the random seed for reproducibility\n",
    "np.random.seed(42)\n",
    "\n",
    "# Generate a random sample of size 1000 from a Poisson distribution with mean 5\n",
    "sample = np.random.poisson(lam=5, size=1000)\n",
    "\n",
    "# Calculate the sample mean and variance\n",
    "sample_mean = np.mean(sample)\n",
    "sample_var = np.var(sample)\n",
    "\n",
    "# Printing the output\n",
    "print(\"Poission Sample Mean     :\", sample_mean)\n",
    "print(\"Poission Sample Variance :\", sample_var)"
   ]
  },
  {
   "cell_type": "markdown",
   "id": "a7ee1ff6-e8fb-41cb-b43e-3a7f4e247ad6",
   "metadata": {},
   "source": [
    "Q9. How mean and variance are related in Binomial distribution and Poisson distribution?\n"
   ]
  },
  {
   "cell_type": "markdown",
   "id": "1a72009c-ae3b-46a8-8262-8e9bb05146c0",
   "metadata": {},
   "source": [
    " 1. Binomial Distribution\n",
    " In the binomial distribution, the mean (or expected value) and variance are related as follows:\n",
    "\n",
    "~~~\n",
    "Mean = np\n",
    "Variance = np(1-p)\n",
    "~~~\n",
    "\n",
    " Where n is the number of trials, p is the probability of success in each trial, np is the expected number of successes, and np(1-p) is the variance."
   ]
  },
  {
   "cell_type": "markdown",
   "id": "4916e28a-2ac5-4b18-bf40-963d48d15a6f",
   "metadata": {},
   "source": [
    " 2. Poission Distribution\n",
    " In the Poisson distribution, the mean (or expected value) and variance are related as follows:\n",
    "\n",
    "~~~\n",
    "Mean = Variance = λ\n",
    "~~~\n",
    "\n",
    " where λ is the average number of rare events in the interval."
   ]
  },
  {
   "cell_type": "markdown",
   "id": "0148ec52-5158-40d1-83bc-d02fa68971be",
   "metadata": {},
   "source": [
    "Q10. In normal distribution with respect to mean position, where does the least frequent data appear?\n"
   ]
  },
  {
   "cell_type": "markdown",
   "id": "bc463a3e-6f11-4e76-b861-75ee5ef22189",
   "metadata": {},
   "source": [
    " In a normal distribution, the least frequent data appear in the **tails of the distribution**, which are the regions that are farthest from the mean. The tails of a normal distribution represent the extreme values of the variable being measured, which are less common than the values closer to the mean.\n",
    "\n",
    " For example, if we have a normal distribution with mean 0 and standard deviation 1, the least frequent data will appear in the tails of the distribution, which are the regions beyond 3 standard deviations from the mean. This is because the normal distribution is symmetric around the mean, and the probability density decreases rapidly as we move away from the mean towards the tails of the distribution. The probability of observing a value in the tails of a normal distribution is relatively low compared to the probability of observing a value closer to the mean."
   ]
  },
  {
   "cell_type": "markdown",
   "id": "45c90831-d9ed-424f-b6aa-dba75a6bc154",
   "metadata": {},
   "source": [
    "![Normal Distribution](https://t3.ftcdn.net/jpg/04/78/33/96/360_F_478339655_b125oNLiT5oN4QygBeaWfnDVOVH2EfIX.jpg)"
   ]
  },
  {
   "cell_type": "code",
   "execution_count": null,
   "id": "3bfe37eb-4659-475c-b2e4-f5e8488920c8",
   "metadata": {},
   "outputs": [],
   "source": []
  }
 ],
 "metadata": {
  "kernelspec": {
   "display_name": "Python 3 (ipykernel)",
   "language": "python",
   "name": "python3"
  },
  "language_info": {
   "codemirror_mode": {
    "name": "ipython",
    "version": 3
   },
   "file_extension": ".py",
   "mimetype": "text/x-python",
   "name": "python",
   "nbconvert_exporter": "python",
   "pygments_lexer": "ipython3",
   "version": "3.11.7"
  }
 },
 "nbformat": 4,
 "nbformat_minor": 5
}
